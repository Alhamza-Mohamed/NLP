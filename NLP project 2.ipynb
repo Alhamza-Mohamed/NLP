{
 "cells": [
  {
   "cell_type": "code",
   "execution_count": 7,
   "id": "97621b8c",
   "metadata": {},
   "outputs": [],
   "source": [
    "import spacy\n",
    "import numpy as np"
   ]
  },
  {
   "cell_type": "code",
   "execution_count": null,
   "id": "01239e60",
   "metadata": {},
   "outputs": [],
   "source": [
    "#!pytho -m spacy download en_core_web_md"
   ]
  },
  {
   "cell_type": "code",
   "execution_count": 3,
   "id": "4bd9f5ff",
   "metadata": {},
   "outputs": [],
   "source": [
    "nlp = spacy.load (\"en_core_web_md\")"
   ]
  },
  {
   "cell_type": "code",
   "execution_count": 5,
   "id": "e1a31830",
   "metadata": {},
   "outputs": [],
   "source": [
    "with open (\"data_sets/wiki_us.txt\", \"r\") as f:\n",
    "    text = f.read()"
   ]
  },
  {
   "cell_type": "code",
   "execution_count": 6,
   "id": "0061d927",
   "metadata": {},
   "outputs": [
    {
     "name": "stdout",
     "output_type": "stream",
     "text": [
      "The United States of America (U.S.A. or USA), commonly known as the United States (U.S. or US) or America, is a country primarily located in North America.\n"
     ]
    }
   ],
   "source": [
    "doc = nlp(text)\n",
    "sentence1 = list (doc.sents)[0]\n",
    "print (sentence1)"
   ]
  },
  {
   "cell_type": "code",
   "execution_count": null,
   "id": "0a6277da",
   "metadata": {},
   "outputs": [
    {
     "name": "stdout",
     "output_type": "stream",
     "text": [
      "['inner-city', 'anti-poverty', 'SLUMS', 'Socioeconomic', 'Divides', 'INTERSECT', 'drop-out', 'dropout', 'handicaps', 'suburb']\n"
     ]
    }
   ],
   "source": [
    "your_word = \"country\"\n",
    "ms = nlp.vocab.vectors.most_similar(\n",
    "    np.asarray([nlp.vocab.vectors[nlp.vocab.strings[your_word]]]) , n=10)\n",
    "words = [nlp.vocab.strings[w] for w in ms [0][0]]\n",
    "distances = ms[2]\n",
    "print(words)\n",
    "\n",
    "#trying to find the top 10 most similar words to \"country\" using spaCy word vectors "
   ]
  },
  {
   "cell_type": "code",
   "execution_count": 9,
   "id": "9cdbde34",
   "metadata": {},
   "outputs": [],
   "source": [
    "doc1 = nlp (\"I like salty fries and hamburgers.\")\n",
    "doc2 = nlp (\"Fast food tastes very good.\")"
   ]
  },
  {
   "cell_type": "code",
   "execution_count": 10,
   "id": "9af129d8",
   "metadata": {},
   "outputs": [
    {
     "name": "stdout",
     "output_type": "stream",
     "text": [
      "I like salty fries and hamburgers. <-> Fast food tastes very good. 0.8015960454940796\n"
     ]
    }
   ],
   "source": [
    "print (doc1, \"<->\" , doc2, doc1.similarity(doc2))"
   ]
  },
  {
   "cell_type": "code",
   "execution_count": 11,
   "id": "2978a7e0",
   "metadata": {},
   "outputs": [],
   "source": [
    "doc3 = nlp (\"The Empire State Bulding is in New York\")"
   ]
  },
  {
   "cell_type": "code",
   "execution_count": 12,
   "id": "2ba7f666",
   "metadata": {},
   "outputs": [
    {
     "name": "stdout",
     "output_type": "stream",
     "text": [
      "I like salty fries and hamburgers. <-> The Empire State Bulding is in New York 0.447182297706604\n"
     ]
    }
   ],
   "source": [
    "print (doc1, \"<->\" , doc3, doc1.similarity(doc3))"
   ]
  },
  {
   "cell_type": "code",
   "execution_count": 14,
   "id": "4df4d7ab",
   "metadata": {},
   "outputs": [],
   "source": [
    "doc4 = nlp (\"I enjoy oranges\")\n",
    "doc5 = nlp (\"I enjoy apples\")"
   ]
  },
  {
   "cell_type": "code",
   "execution_count": null,
   "id": "51bf0c1a",
   "metadata": {},
   "outputs": [
    {
     "name": "stdout",
     "output_type": "stream",
     "text": [
      "I enjoy oranges <-> I enjoy apples 0.9219616651535034\n"
     ]
    }
   ],
   "source": [
    "print (doc4, \"<->\" , doc5, doc4.similarity(doc5)) # high similarity "
   ]
  },
  {
   "cell_type": "code",
   "execution_count": 16,
   "id": "56a71792",
   "metadata": {},
   "outputs": [],
   "source": [
    "doc6 = nlp(\"I enjoy burgers\")"
   ]
  },
  {
   "cell_type": "code",
   "execution_count": null,
   "id": "c49d3a93",
   "metadata": {},
   "outputs": [
    {
     "name": "stdout",
     "output_type": "stream",
     "text": [
      "I enjoy oranges <-> I enjoy burgers 0.8284677863121033\n"
     ]
    }
   ],
   "source": [
    "print (doc4, \"<->\" , doc6, doc4.similarity(doc6)) #lower similarity "
   ]
  },
  {
   "cell_type": "code",
   "execution_count": null,
   "id": "a4bec3bd",
   "metadata": {},
   "outputs": [
    {
     "name": "stdout",
     "output_type": "stream",
     "text": [
      "salty fries <-> hamburgers 0.5733411312103271\n"
     ]
    }
   ],
   "source": [
    "french_fries = doc1[2:4] \n",
    "burgers = doc1[5]\n",
    "print (french_fries, \"<->\" , burgers, french_fries.similarity(burgers))"
   ]
  },
  {
   "cell_type": "code",
   "execution_count": null,
   "id": "f7cdc6ba",
   "metadata": {},
   "outputs": [],
   "source": [
    "nlp = spacy.blank(\"en\") #This creates a blank English NLP pipeline. \n",
    "                        #It has: A tokenizer and No pre-trained models (no tagger, parser, NER, etc.)\n",
    "                        #Lightweight and fast, good for custom pipelines."
   ]
  },
  {
   "cell_type": "code",
   "execution_count": null,
   "id": "8153b7e6",
   "metadata": {},
   "outputs": [
    {
     "data": {
      "text/plain": [
       "<spacy.pipeline.sentencizer.Sentencizer at 0x22239756410>"
      ]
     },
     "execution_count": 20,
     "metadata": {},
     "output_type": "execute_result"
    }
   ],
   "source": [
    "nlp.add_pipe(\"sentencizer\") #The sentencizer is a rule-based component that detects sentence boundaries\n",
    "                            #based on Punctuation as(. , ! , ?)\n",
    "                            # It does not use machine learning — it’s fast and simple"
   ]
  },
  {
   "cell_type": "code",
   "execution_count": 21,
   "id": "79fcaeb8",
   "metadata": {},
   "outputs": [
    {
     "data": {
      "text/plain": [
       "{'summary': {'sentencizer': {'assigns': ['token.is_sent_start', 'doc.sents'],\n",
       "   'requires': [],\n",
       "   'scores': ['sents_f', 'sents_p', 'sents_r'],\n",
       "   'retokenizes': False}},\n",
       " 'problems': {'sentencizer': []},\n",
       " 'attrs': {'doc.sents': {'assigns': ['sentencizer'], 'requires': []},\n",
       "  'token.is_sent_start': {'assigns': ['sentencizer'], 'requires': []}}}"
      ]
     },
     "execution_count": 21,
     "metadata": {},
     "output_type": "execute_result"
    }
   ],
   "source": [
    "nlp.analyze_pipes()"
   ]
  },
  {
   "cell_type": "code",
   "execution_count": 22,
   "id": "5d356ef9",
   "metadata": {},
   "outputs": [],
   "source": [
    "nlp2 = spacy.load(\"en_core_web_sm\")"
   ]
  },
  {
   "cell_type": "code",
   "execution_count": 23,
   "id": "d5bbd4a4",
   "metadata": {},
   "outputs": [
    {
     "data": {
      "text/plain": [
       "{'summary': {'tok2vec': {'assigns': ['doc.tensor'],\n",
       "   'requires': [],\n",
       "   'scores': [],\n",
       "   'retokenizes': False},\n",
       "  'tagger': {'assigns': ['token.tag'],\n",
       "   'requires': [],\n",
       "   'scores': ['tag_acc',\n",
       "    'pos_acc',\n",
       "    'tag_micro_p',\n",
       "    'tag_micro_r',\n",
       "    'tag_micro_f'],\n",
       "   'retokenizes': False},\n",
       "  'parser': {'assigns': ['token.dep',\n",
       "    'token.head',\n",
       "    'token.is_sent_start',\n",
       "    'doc.sents'],\n",
       "   'requires': [],\n",
       "   'scores': ['dep_uas',\n",
       "    'dep_las',\n",
       "    'dep_las_per_type',\n",
       "    'sents_p',\n",
       "    'sents_r',\n",
       "    'sents_f'],\n",
       "   'retokenizes': False},\n",
       "  'attribute_ruler': {'assigns': [],\n",
       "   'requires': [],\n",
       "   'scores': [],\n",
       "   'retokenizes': False},\n",
       "  'lemmatizer': {'assigns': ['token.lemma'],\n",
       "   'requires': [],\n",
       "   'scores': ['lemma_acc'],\n",
       "   'retokenizes': False},\n",
       "  'ner': {'assigns': ['doc.ents', 'token.ent_iob', 'token.ent_type'],\n",
       "   'requires': [],\n",
       "   'scores': ['ents_f', 'ents_p', 'ents_r', 'ents_per_type'],\n",
       "   'retokenizes': False}},\n",
       " 'problems': {'tok2vec': [],\n",
       "  'tagger': [],\n",
       "  'parser': [],\n",
       "  'attribute_ruler': [],\n",
       "  'lemmatizer': [],\n",
       "  'ner': []},\n",
       " 'attrs': {'token.ent_type': {'assigns': ['ner'], 'requires': []},\n",
       "  'token.tag': {'assigns': ['tagger'], 'requires': []},\n",
       "  'doc.sents': {'assigns': ['parser'], 'requires': []},\n",
       "  'token.lemma': {'assigns': ['lemmatizer'], 'requires': []},\n",
       "  'token.head': {'assigns': ['parser'], 'requires': []},\n",
       "  'doc.ents': {'assigns': ['ner'], 'requires': []},\n",
       "  'doc.tensor': {'assigns': ['tok2vec'], 'requires': []},\n",
       "  'token.ent_iob': {'assigns': ['ner'], 'requires': []},\n",
       "  'token.is_sent_start': {'assigns': ['parser'], 'requires': []},\n",
       "  'token.dep': {'assigns': ['parser'], 'requires': []}}}"
      ]
     },
     "execution_count": 23,
     "metadata": {},
     "output_type": "execute_result"
    }
   ],
   "source": [
    "nlp2.analyze_pipes()"
   ]
  }
 ],
 "metadata": {
  "kernelspec": {
   "display_name": "Python 3",
   "language": "python",
   "name": "python3"
  },
  "language_info": {
   "codemirror_mode": {
    "name": "ipython",
    "version": 3
   },
   "file_extension": ".py",
   "mimetype": "text/x-python",
   "name": "python",
   "nbconvert_exporter": "python",
   "pygments_lexer": "ipython3",
   "version": "3.11.9"
  }
 },
 "nbformat": 4,
 "nbformat_minor": 5
}
